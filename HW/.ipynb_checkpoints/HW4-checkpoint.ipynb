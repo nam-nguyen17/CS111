{
 "cells": [
  {
   "cell_type": "code",
   "execution_count": 3,
   "metadata": {},
   "outputs": [],
   "source": [
    "path = r\"C:\\Users\\Admin\\NAM NGUYEN\\BOOTCAMP\\CS111\\data\\epldata_final.csv\"\n",
    "with open(path, encoding=\"utf8\") as myfile:\n",
    "    s = myfile.read()\n",
    "    dataList = s.split(\"\\n\")[1:-1]\n",
    "    data = []\n",
    "    for player in dataList:\n",
    "        data.append(player.split(\",\"))"
   ]
  },
  {
   "cell_type": "code",
   "execution_count": 4,
   "metadata": {},
   "outputs": [
    {
     "name": "stdout",
     "output_type": "stream",
     "text": [
      "{'Burnley': 18, 'Brighton+and+Hove': 22, 'Everton': 28, 'Watford': 24, 'Newcastle+United': 21, 'Bournemouth': 24, 'Leicester+City': 24, 'Swansea': 25, 'Southampton': 23, 'West+Ham': 22, 'Manchester+United': 25, 'West+Brom': 19, 'Tottenham': 20, 'Liverpool': 27, 'Huddersfield': 28, 'Crystal+Palace': 21, 'Arsenal': 28, 'Chelsea': 20, 'Stoke+City': 22, 'Manchester+City': 20}\n"
     ]
    }
   ],
   "source": [
    "# 1\n",
    "def get_col(arr, col):\n",
    "    return map(lambda x: x[col], arr)\n",
    "\n",
    "a = data\n",
    "unique_club = set(list(get_col(a, 1)))  # the unique club \n",
    "\n",
    "\n",
    "number_player_in_club = []\n",
    "for i in unique_club:\n",
    "    number = (i, list(get_col(a, 1)).count(i))\n",
    "    number_player_in_club.append(number)\n",
    "print(dict(number_player_in_club))"
   ]
  },
  {
   "cell_type": "code",
   "execution_count": 5,
   "metadata": {},
   "outputs": [
    {
     "name": "stdout",
     "output_type": "stream",
     "text": [
      "The oldest player:  Julian Speroni\n",
      "The youngest player:  Ben Woodburn\n"
     ]
    }
   ],
   "source": [
    "name_age = {i[2]:i[0] for i in data} # dict: age and name\n",
    "\n",
    "age = set(list(get_col(a, 2)))  # set of age in dataset\n",
    "\n",
    "\n",
    "# find oldest and youngest\n",
    "for i in name_age:\n",
    "    if i == max(age):\n",
    "        print(\"The oldest player: \", name_age[i])\n",
    "    if i == min(age):\n",
    "        print(\"The youngest player: \", name_age[i])"
   ]
  },
  {
   "cell_type": "code",
   "execution_count": 6,
   "metadata": {},
   "outputs": [
    {
     "name": "stdout",
     "output_type": "stream",
     "text": [
      "The average age of all player in EPL is 26.8\n"
     ]
    }
   ],
   "source": [
    "# 3.1\n",
    "age1 = list(get_col(a, 2)) # list of age in dataset\n",
    "\n",
    "for i in range(0, len(age1)):\n",
    "    age1[i] = int(age1[i])      # Converting all strings in list to integers\n",
    "    \n",
    "sum_age = 0\n",
    "average_age_players = 0\n",
    "for i in age1:\n",
    "    sum_age += i\n",
    "    average_age_players = round((sum_age / len(age1)), 2)\n",
    "    \n",
    "print(\"The average age of all player in EPL is\", average_age_players)            # average age of all players"
   ]
  },
  {
   "cell_type": "code",
   "execution_count": 7,
   "metadata": {},
   "outputs": [
    {
     "name": "stdout",
     "output_type": "stream",
     "text": [
      "Burnley 27\n",
      "Brighton+and+Hove 28\n",
      "Everton 26\n",
      "Watford 28\n",
      "Newcastle+United 26\n",
      "Bournemouth 26\n",
      "Leicester+City 27\n",
      "Swansea 27\n",
      "Southampton 24\n",
      "West+Ham 27\n",
      "Manchester+United 25\n",
      "West+Brom 28\n",
      "Tottenham 25\n",
      "Liverpool 24\n",
      "Huddersfield 26\n",
      "Crystal+Palace 28\n",
      "Arsenal 26\n",
      "Chelsea 27\n",
      "Stoke+City 28\n",
      "Manchester+City 27\n"
     ]
    }
   ],
   "source": [
    "# 3.2\n",
    "club_age = []\n",
    "for i in data:\n",
    "    club_age.append(i[1:3])   # list of club and age\n",
    "\n",
    "\n",
    "for i in range(0, len(club_age)):\n",
    "    club_age[i][1] = int(club_age[i][1]) # Converting all strings in list to integers\n",
    "\n",
    "\n",
    "average_in_club = []\n",
    "total_in_club = 0\n",
    "average_age_in_club = 0\n",
    "number_player = 0\n",
    "club_avg_age = []\n",
    "\n",
    "for i in unique_club: \n",
    "    for j in club_age:\n",
    "        if i in j:\n",
    "            total_in_club += j[1]     # total age in each club\n",
    "    \n",
    "    for k in number_player_in_club:\n",
    "        if i in k:\n",
    "            number_player += k[1]     # number player in each club\n",
    "    \n",
    "    print(i,total_in_club // number_player)        # the average age for each club\n",
    "    club_avg_age.append([i, total_in_club//number_player])\n",
    "    number_player = 0\n",
    "    total_in_club = 0"
   ]
  },
  {
   "cell_type": "code",
   "execution_count": 8,
   "metadata": {},
   "outputs": [
    {
     "data": {
      "text/plain": [
       "[['Brighton+and+Hove', 28],\n",
       " ['Watford', 28],\n",
       " ['West+Brom', 28],\n",
       " ['Crystal+Palace', 28],\n",
       " ['Stoke+City', 28],\n",
       " ['Burnley', 27],\n",
       " ['Leicester+City', 27],\n",
       " ['Swansea', 27],\n",
       " ['West+Ham', 27],\n",
       " ['Chelsea', 27],\n",
       " ['Manchester+City', 27],\n",
       " ['Everton', 26],\n",
       " ['Newcastle+United', 26],\n",
       " ['Bournemouth', 26],\n",
       " ['Huddersfield', 26],\n",
       " ['Arsenal', 26],\n",
       " ['Manchester+United', 25],\n",
       " ['Tottenham', 25],\n",
       " ['Southampton', 24],\n",
       " ['Liverpool', 24]]"
      ]
     },
     "execution_count": 8,
     "metadata": {},
     "output_type": "execute_result"
    }
   ],
   "source": [
    "sorted(club_avg_age, key = lambda x: x[1], reverse = True)"
   ]
  },
  {
   "cell_type": "code",
   "execution_count": 9,
   "metadata": {},
   "outputs": [
    {
     "name": "stdout",
     "output_type": "stream",
     "text": [
      "The total market value of all player in big 6 club: 3082.15\n",
      "The total market value of all player not in big 6 club: 1994.4\n"
     ]
    }
   ],
   "source": [
    "club_market_value = []\n",
    "for i in data:\n",
    "    club_market_value.append([i[-2], float(i[5])])     # list of big6 and market value \n",
    "\n",
    "value_of_big6 = 0\n",
    "value_of_not_big6 = 0\n",
    "\n",
    "for i in club_market_value:\n",
    "    if i[0] == '1':\n",
    "        value_of_big6 += i[1]\n",
    "    else:\n",
    "        value_of_not_big6 += i[1]\n",
    "print(\"The total market value of all player in big 6 club:\", value_of_big6)\n",
    "print(\"The total market value of all player not in big 6 club:\", value_of_not_big6)"
   ]
  },
  {
   "cell_type": "code",
   "execution_count": 10,
   "metadata": {},
   "outputs": [
    {
     "name": "stdout",
     "output_type": "stream",
     "text": [
      "3 5 7 4 "
     ]
    }
   ],
   "source": [
    "# 7\n",
    "def countSeq(char, strg):\n",
    "    count1 = 0\n",
    "    for i in strg:\n",
    "        if i == 'a':\n",
    "            count1 += 1\n",
    "        elif count1 == 0:\n",
    "            continue\n",
    "        else:\n",
    "            yield count1\n",
    "            count1 = 0\n",
    "        \n",
    "\n",
    "s = 'daaaddaaaaadsssssaaaaaaaddfffdaaaas'\n",
    "for i in countSeq('a', s):\n",
    "    print(i, end=' ')"
   ]
  },
  {
   "cell_type": "code",
   "execution_count": null,
   "metadata": {},
   "outputs": [],
   "source": []
  }
 ],
 "metadata": {
  "kernelspec": {
   "display_name": "Python 3",
   "language": "python",
   "name": "python3"
  },
  "language_info": {
   "codemirror_mode": {
    "name": "ipython",
    "version": 3
   },
   "file_extension": ".py",
   "mimetype": "text/x-python",
   "name": "python",
   "nbconvert_exporter": "python",
   "pygments_lexer": "ipython3",
   "version": "3.6.5"
  }
 },
 "nbformat": 4,
 "nbformat_minor": 4
}
