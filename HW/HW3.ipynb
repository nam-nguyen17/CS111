{
 "cells": [
  {
   "cell_type": "code",
   "execution_count": 1,
   "metadata": {},
   "outputs": [
    {
     "name": "stdout",
     "output_type": "stream",
     "text": [
      "Size of elements : 3\n",
      "R1: 1 2 3\n",
      "R2: 2 3 4\n",
      "R3: 1 3 2\n",
      "[[1, 2, 3], [2, 3, 4], [1, 3, 2]]\n",
      "21\n"
     ]
    }
   ],
   "source": [
    "num = int(input('Size of elements : '))\n",
    "Matrix = list()\n",
    "\n",
    "\n",
    "for i in range(num) :\n",
    "  ele  = input(\"R{}: \".format(i+1)).split()\n",
    "  Matrix.append(list(map(int, ele)))\n",
    "\n",
    "print(Matrix) # list in a list\n",
    "\n",
    "\n",
    "\n",
    "total = 0\n",
    "for i in Matrix:\n",
    "    total += sum(i)\n",
    "\n",
    "print(total) #  total of the matrix"
   ]
  },
  {
   "cell_type": "code",
   "execution_count": null,
   "metadata": {},
   "outputs": [],
   "source": []
  }
 ],
 "metadata": {
  "kernelspec": {
   "display_name": "Python 3",
   "language": "python",
   "name": "python3"
  },
  "language_info": {
   "codemirror_mode": {
    "name": "ipython",
    "version": 3
   },
   "file_extension": ".py",
   "mimetype": "text/x-python",
   "name": "python",
   "nbconvert_exporter": "python",
   "pygments_lexer": "ipython3",
   "version": "3.6.5"
  }
 },
 "nbformat": 4,
 "nbformat_minor": 4
}
