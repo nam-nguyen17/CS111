{
 "cells": [
  {
   "cell_type": "code",
   "execution_count": 1,
   "metadata": {},
   "outputs": [
    {
     "name": "stdout",
     "output_type": "stream",
     "text": [
      "18\n",
      "New number: 12\n",
      "Number is too small\n",
      "New number: 18\n",
      "Congratulation\n"
     ]
    }
   ],
   "source": [
    "import random\n",
    "\n",
    "n = 20\n",
    "n_random = int(n * random.random()) + 1\n",
    "print(n_random)\n",
    "guess = 0\n",
    "while guess != n_random:\n",
    "    guess = int(input(\"New number: \"))\n",
    "    if guess > 0:\n",
    "        if guess == n_random:\n",
    "            print(\"Congratulation\")\n",
    "            break\n",
    "        if guess > n_random:\n",
    "            print(\"Number is too large\")\n",
    "        else:\n",
    "            print(\"Number is too small\")\n",
    "        \n",
    "    else:\n",
    "        print(\"Sorry you give up\")\n",
    "        break\n",
    "\n"
   ]
  },
  {
   "cell_type": "code",
   "execution_count": null,
   "metadata": {},
   "outputs": [],
   "source": []
  }
 ],
 "metadata": {
  "kernelspec": {
   "display_name": "Python 3",
   "language": "python",
   "name": "python3"
  },
  "language_info": {
   "codemirror_mode": {
    "name": "ipython",
    "version": 3
   },
   "file_extension": ".py",
   "mimetype": "text/x-python",
   "name": "python",
   "nbconvert_exporter": "python",
   "pygments_lexer": "ipython3",
   "version": "3.6.5"
  }
 },
 "nbformat": 4,
 "nbformat_minor": 4
}
