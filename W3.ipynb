{
 "cells": [
  {
   "cell_type": "code",
   "execution_count": 1,
   "metadata": {},
   "outputs": [
    {
     "name": "stdout",
     "output_type": "stream",
     "text": [
      "78\n",
      "4\n",
      "4\n",
      "100\n"
     ]
    }
   ],
   "source": [
    "t = (12,4,6,78)\n",
    "print(max(t))\n",
    "print(min(t))\n",
    "print(len(t))\n",
    "print(sum(t))"
   ]
  },
  {
   "cell_type": "code",
   "execution_count": 4,
   "metadata": {},
   "outputs": [
    {
     "data": {
      "text/plain": [
       "[2, 6]"
      ]
     },
     "execution_count": 4,
     "metadata": {},
     "output_type": "execute_result"
    }
   ],
   "source": [
    "m2 = [[[1],[2,6],[3]], [3,4], [5,6], [7,8]]\n",
    "m2[0][1]"
   ]
  },
  {
   "cell_type": "code",
   "execution_count": 5,
   "metadata": {},
   "outputs": [
    {
     "data": {
      "text/plain": [
       "4"
      ]
     },
     "execution_count": 5,
     "metadata": {},
     "output_type": "execute_result"
    }
   ],
   "source": [
    "len(m2)"
   ]
  },
  {
   "cell_type": "code",
   "execution_count": 29,
   "metadata": {},
   "outputs": [
    {
     "name": "stdout",
     "output_type": "stream",
     "text": [
      "Is matrix 3x2: False\n"
     ]
    }
   ],
   "source": [
    "m=3\n",
    "n=2\n",
    "m2 = [[3,4], [5,6], [7,8],[2, 5]]\n",
    "# if condition:\n",
    "#     statements\n",
    "# else:\n",
    "#     statements\n",
    "\n",
    "matrix = True\n",
    "if len(m2) != m:\n",
    "    matrix = False\n",
    "for row in m2:\n",
    "    if len(row) != n:\n",
    "        matrix = False\n",
    "        \n",
    "print('Is matrix {}x{}: {}'.format(m,n,matrix))"
   ]
  },
  {
   "cell_type": "code",
   "execution_count": 13,
   "metadata": {},
   "outputs": [
    {
     "name": "stdout",
     "output_type": "stream",
     "text": [
      "[[3, 4], [5, 6], [7, 8], [2], [3, 4], [5, 6], [7, 8], [2], [3, 4], [5, 6], [7, 8], [2]]\n"
     ]
    }
   ],
   "source": [
    "print(m2 * 3)"
   ]
  },
  {
   "cell_type": "code",
   "execution_count": 14,
   "metadata": {},
   "outputs": [
    {
     "data": {
      "text/plain": [
       "[[3, 4], [5, 6], [7, 8], [2], [3, 4], [5, 6], [7, 8], [2]]"
      ]
     },
     "execution_count": 14,
     "metadata": {},
     "output_type": "execute_result"
    }
   ],
   "source": [
    "m2 * 2"
   ]
  },
  {
   "cell_type": "code",
   "execution_count": 19,
   "metadata": {},
   "outputs": [
    {
     "name": "stdout",
     "output_type": "stream",
     "text": [
      "before continue\n",
      "before continue\n",
      "before continue\n",
      "before continue\n",
      "before continue\n"
     ]
    }
   ],
   "source": [
    "x = 0\n",
    "while x < 5:\n",
    "    x += 1\n",
    "    print('before continue')\n",
    "    continue\n",
    "    print(x)"
   ]
  },
  {
   "cell_type": "code",
   "execution_count": 20,
   "metadata": {},
   "outputs": [
    {
     "name": "stdout",
     "output_type": "stream",
     "text": [
      "---  [3, 4]\n",
      "---  [5, 6]\n",
      "---  [7, 8]\n",
      "---  [2]\n"
     ]
    }
   ],
   "source": [
    "for r in m2:\n",
    "    print('--- ',r)"
   ]
  },
  {
   "cell_type": "code",
   "execution_count": 21,
   "metadata": {},
   "outputs": [
    {
     "name": "stdout",
     "output_type": "stream",
     "text": [
      "h\n",
      "e\n",
      "l\n",
      "l\n",
      "o\n"
     ]
    }
   ],
   "source": [
    "for c in 'hello':\n",
    "    print(c)"
   ]
  },
  {
   "cell_type": "code",
   "execution_count": 28,
   "metadata": {},
   "outputs": [
    {
     "name": "stdout",
     "output_type": "stream",
     "text": [
      "234"
     ]
    }
   ],
   "source": [
    "for i in range(2,5):\n",
    "    print(i, end='')"
   ]
  },
  {
   "cell_type": "code",
   "execution_count": 33,
   "metadata": {},
   "outputs": [
    {
     "name": "stdout",
     "output_type": "stream",
     "text": [
      "[[3, 4], [5, 6], [7, 8], [2, 5]]\n",
      "3    4\n",
      "5    6\n",
      "7    8\n",
      "2    5\n"
     ]
    }
   ],
   "source": [
    "m2 = [[3,4], [5,6], [7,8],[2, 5]]\n",
    "print(m2)\n",
    "for x1, x2 in m2:\n",
    "    print(x1, '  ', x2 )"
   ]
  },
  {
   "cell_type": "code",
   "execution_count": 35,
   "metadata": {},
   "outputs": [
    {
     "data": {
      "text/plain": [
       "[(0, [3, 4]), (1, [5, 6]), (2, [7, 8]), (3, [2, 5])]"
      ]
     },
     "execution_count": 35,
     "metadata": {},
     "output_type": "execute_result"
    }
   ],
   "source": [
    "list(enumerate(m2))"
   ]
  },
  {
   "cell_type": "code",
   "execution_count": 36,
   "metadata": {},
   "outputs": [
    {
     "name": "stdout",
     "output_type": "stream",
     "text": [
      "[7, 11, 15, 7]\n"
     ]
    }
   ],
   "source": [
    "m3 = []\n",
    "for r in m2:\n",
    "    m3.append(sum(r))\n",
    "print(m3)"
   ]
  },
  {
   "cell_type": "markdown",
   "metadata": {},
   "source": [
    "### List conprehension"
   ]
  },
  {
   "cell_type": "code",
   "execution_count": 37,
   "metadata": {},
   "outputs": [
    {
     "data": {
      "text/plain": [
       "[7, 11, 15, 7]"
      ]
     },
     "execution_count": 37,
     "metadata": {},
     "output_type": "execute_result"
    }
   ],
   "source": [
    "m4 = [sum(r) for r in m2]\n",
    "m4"
   ]
  },
  {
   "cell_type": "code",
   "execution_count": 38,
   "metadata": {},
   "outputs": [
    {
     "data": {
      "text/plain": [
       "1"
      ]
     },
     "execution_count": 38,
     "metadata": {},
     "output_type": "execute_result"
    }
   ],
   "source": [
    "#true value if condition else false value\n",
    "x = 2\n",
    "y = 1 if x==2 else 0\n",
    "y"
   ]
  },
  {
   "cell_type": "markdown",
   "metadata": {},
   "source": [
    "##### List conprehension - Filter"
   ]
  },
  {
   "cell_type": "code",
   "execution_count": 42,
   "metadata": {},
   "outputs": [
    {
     "data": {
      "text/plain": [
       "[12, 14, 18]"
      ]
     },
     "execution_count": 42,
     "metadata": {},
     "output_type": "execute_result"
    }
   ],
   "source": [
    "li = [3, 6, 2, 7, 1, 9]\n",
    "m5 = [elem * 2 for elem in li if elem > 4]\n",
    "m5"
   ]
  },
  {
   "cell_type": "code",
   "execution_count": 41,
   "metadata": {},
   "outputs": [
    {
     "data": {
      "text/plain": [
       "[9, 12, 4, 14, 1, 18]"
      ]
     },
     "execution_count": 41,
     "metadata": {},
     "output_type": "execute_result"
    }
   ],
   "source": [
    "m6 = [elem * 2 if elem > 4 else elem**2 for elem in li]\n",
    "m6"
   ]
  },
  {
   "cell_type": "code",
   "execution_count": 43,
   "metadata": {},
   "outputs": [
    {
     "data": {
      "text/plain": [
       "[[3, 4], [5, 6], [7, 8], [2, 5]]"
      ]
     },
     "execution_count": 43,
     "metadata": {},
     "output_type": "execute_result"
    }
   ],
   "source": [
    "m2"
   ]
  },
  {
   "cell_type": "code",
   "execution_count": 44,
   "metadata": {},
   "outputs": [
    {
     "data": {
      "text/plain": [
       "[[9, 16], [25, 36], [49, 64], [4, 25]]"
      ]
     },
     "execution_count": 44,
     "metadata": {},
     "output_type": "execute_result"
    }
   ],
   "source": [
    "m7 = []\n",
    "for r in m2:\n",
    "    r_temp = []\n",
    "    for e in r:\n",
    "        r_temp.append(e**2)\n",
    "    m7.append(r_temp)\n",
    "m7"
   ]
  },
  {
   "cell_type": "code",
   "execution_count": 45,
   "metadata": {},
   "outputs": [
    {
     "data": {
      "text/plain": [
       "[[9, 16], [25, 36], [49, 64], [4, 25]]"
      ]
     },
     "execution_count": 45,
     "metadata": {},
     "output_type": "execute_result"
    }
   ],
   "source": [
    "m71 = [[e**2 for e in r] for r in m2]\n",
    "m71"
   ]
  },
  {
   "cell_type": "code",
   "execution_count": 48,
   "metadata": {},
   "outputs": [
    {
     "data": {
      "text/plain": [
       "[4, 4, 4, 4, 25, 25, 25, 25]"
      ]
     },
     "execution_count": 48,
     "metadata": {},
     "output_type": "execute_result"
    }
   ],
   "source": [
    "m72 = [[e**2 for e in r] for r in m2]\n",
    "m72"
   ]
  },
  {
   "cell_type": "code",
   "execution_count": 53,
   "metadata": {},
   "outputs": [
    {
     "name": "stdout",
     "output_type": "stream",
     "text": [
      "Enter a sequence of integer numbers (separated by comma): 12,42,53,a2,434,6346,85,24,4267\n",
      "12,42,53,a2,434,6346,85,24,4267  --  <class 'str'>\n",
      "['12', '42', '53', 'a2', '434', '6346', '85', '24', '4267']  --  <class 'list'>\n"
     ]
    }
   ],
   "source": [
    "ln = input('Enter a sequence of integer numbers (separated by comma): ')\n",
    "print(ln, ' -- ', type(ln))\n",
    "ln = ln.split(',')\n",
    "print(ln, ' -- ', type(ln))"
   ]
  },
  {
   "cell_type": "code",
   "execution_count": 55,
   "metadata": {},
   "outputs": [
    {
     "name": "stdout",
     "output_type": "stream",
     "text": [
      "[12, 42, 434, 6346, 24]\n",
      "[53, 85, 4267]\n"
     ]
    }
   ],
   "source": [
    "#method 1\n",
    "even_r = [int(e) for e in ln if e.isnumeric() and e[-1] in '02468']\n",
    "odd_r = [int(e) for e in ln if e.isnumeric() and e[-1] in '13579']\n",
    "print(even_r)\n",
    "print(odd_r)"
   ]
  },
  {
   "cell_type": "code",
   "execution_count": 57,
   "metadata": {},
   "outputs": [
    {
     "name": "stdout",
     "output_type": "stream",
     "text": [
      "[12, 42, 434, 6346, 24]\n",
      "[53, 85, 4267]\n"
     ]
    }
   ],
   "source": [
    "#method 2\n",
    "even_r = [int(e) for e in ln if e.isnumeric() and int(e) % 2 == 0]\n",
    "odd_r = [int(e) for e in ln if e.isnumeric() and int(e) %2 != 0]\n",
    "print(even_r)\n",
    "print(odd_r)"
   ]
  },
  {
   "cell_type": "code",
   "execution_count": 72,
   "metadata": {},
   "outputs": [
    {
     "name": "stdout",
     "output_type": "stream",
     "text": [
      "20\n",
      "19\n"
     ]
    }
   ],
   "source": [
    "l = [20, 20, 19, 19, 21]\n",
    "s_min = 1000\n",
    "m = 1000\n",
    "for e in l:\n",
    "    if m > e:\n",
    "        s_min = m\n",
    "        m = e\n",
    "    elif s_min > e and e > m:\n",
    "        s_min = e\n",
    "print(s_min)\n",
    "print(m)"
   ]
  },
  {
   "cell_type": "code",
   "execution_count": 60,
   "metadata": {},
   "outputs": [
    {
     "data": {
      "text/plain": [
       "-3"
      ]
     },
     "execution_count": 60,
     "metadata": {},
     "output_type": "execute_result"
    }
   ],
   "source": [
    "min(l)"
   ]
  },
  {
   "cell_type": "code",
   "execution_count": 68,
   "metadata": {},
   "outputs": [
    {
     "name": "stdout",
     "output_type": "stream",
     "text": [
      "Tina\n"
     ]
    }
   ],
   "source": [
    "records = [['Hina', 20],['Shina', 20.1],['Mina', 20.01],['Tina', 20.001]]\n",
    "s_min = 1000\n",
    "m = 1000\n",
    "for n,g in records:\n",
    "    if m > g:\n",
    "        s_min = m\n",
    "        m = g\n",
    "    elif s_min > g:\n",
    "        s_min = g\n",
    "# print(s_min)\n",
    "# filter name with second lowest grade\n",
    "# using list conprehension\n",
    "filter_record = [r[0] for r in records if r[1] == s_min]\n",
    "# sort name if many names exists\n",
    "filter_record.sort()\n",
    "# print results\n",
    "for n in filter_record:\n",
    "    print(n)"
   ]
  },
  {
   "cell_type": "code",
   "execution_count": null,
   "metadata": {},
   "outputs": [],
   "source": []
  }
 ],
 "metadata": {
  "kernelspec": {
   "display_name": "Python 3",
   "language": "python",
   "name": "python3"
  },
  "language_info": {
   "codemirror_mode": {
    "name": "ipython",
    "version": 3
   },
   "file_extension": ".py",
   "mimetype": "text/x-python",
   "name": "python",
   "nbconvert_exporter": "python",
   "pygments_lexer": "ipython3",
   "version": "3.6.6"
  }
 },
 "nbformat": 4,
 "nbformat_minor": 2
}