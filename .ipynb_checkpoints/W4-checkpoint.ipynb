{
 "cells": [
  {
   "cell_type": "markdown",
   "metadata": {},
   "source": [
    "#### default argument"
   ]
  },
  {
   "cell_type": "code",
   "execution_count": 1,
   "metadata": {},
   "outputs": [],
   "source": [
    "def plus(a=1, b=2):\n",
    "    return a +b"
   ]
  },
  {
   "cell_type": "code",
   "execution_count": 2,
   "metadata": {},
   "outputs": [
    {
     "name": "stdout",
     "output_type": "stream",
     "text": [
      "3\n"
     ]
    }
   ],
   "source": [
    "print(plus())"
   ]
  },
  {
   "cell_type": "code",
   "execution_count": 3,
   "metadata": {},
   "outputs": [
    {
     "name": "stdout",
     "output_type": "stream",
     "text": [
      "4\n"
     ]
    }
   ],
   "source": [
    "print(plus(2))"
   ]
  },
  {
   "cell_type": "code",
   "execution_count": 4,
   "metadata": {},
   "outputs": [
    {
     "name": "stdout",
     "output_type": "stream",
     "text": [
      "6\n"
     ]
    }
   ],
   "source": [
    "print(plus(2,4))"
   ]
  },
  {
   "cell_type": "markdown",
   "metadata": {},
   "source": [
    "#### keyword argument"
   ]
  },
  {
   "cell_type": "code",
   "execution_count": 5,
   "metadata": {},
   "outputs": [
    {
     "name": "stdout",
     "output_type": "stream",
     "text": [
      "6\n"
     ]
    }
   ],
   "source": [
    "print(plus(b=5))"
   ]
  },
  {
   "cell_type": "code",
   "execution_count": 8,
   "metadata": {},
   "outputs": [
    {
     "name": "stdout",
     "output_type": "stream",
     "text": [
      "14\n"
     ]
    }
   ],
   "source": [
    "print(plus(b=5, a=9))"
   ]
  },
  {
   "cell_type": "code",
   "execution_count": 13,
   "metadata": {},
   "outputs": [
    {
     "ename": "TypeError",
     "evalue": "plus() got multiple values for argument 'a'",
     "output_type": "error",
     "traceback": [
      "\u001b[0;31m---------------------------------------------------------------------------\u001b[0m",
      "\u001b[0;31mTypeError\u001b[0m                                 Traceback (most recent call last)",
      "\u001b[0;32m<ipython-input-13-a8e164ee0b54>\u001b[0m in \u001b[0;36m<module>\u001b[0;34m()\u001b[0m\n\u001b[0;32m----> 1\u001b[0;31m \u001b[0mprint\u001b[0m\u001b[0;34m(\u001b[0m\u001b[0mplus\u001b[0m\u001b[0;34m(\u001b[0m\u001b[0;36m3\u001b[0m\u001b[0;34m,\u001b[0m \u001b[0ma\u001b[0m\u001b[0;34m=\u001b[0m\u001b[0;36m5\u001b[0m\u001b[0;34m)\u001b[0m\u001b[0;34m)\u001b[0m\u001b[0;34m\u001b[0m\u001b[0m\n\u001b[0m",
      "\u001b[0;31mTypeError\u001b[0m: plus() got multiple values for argument 'a'"
     ]
    }
   ],
   "source": [
    "print(plus(3, a=5))"
   ]
  },
  {
   "cell_type": "code",
   "execution_count": 15,
   "metadata": {},
   "outputs": [
    {
     "data": {
      "text/plain": [
       "200"
      ]
     },
     "execution_count": 15,
     "metadata": {},
     "output_type": "execute_result"
    }
   ],
   "source": [
    "def plus(*args):\n",
    "    total = 0\n",
    "    for i in args:\n",
    "        total += i\n",
    "    return total\n",
    "plus(20,30,40,50, 60)"
   ]
  },
  {
   "cell_type": "code",
   "execution_count": 16,
   "metadata": {},
   "outputs": [
    {
     "data": {
      "text/plain": [
       "0"
      ]
     },
     "execution_count": 16,
     "metadata": {},
     "output_type": "execute_result"
    }
   ],
   "source": [
    "plus()"
   ]
  },
  {
   "cell_type": "code",
   "execution_count": 17,
   "metadata": {},
   "outputs": [
    {
     "data": {
      "text/plain": [
       "3"
      ]
     },
     "execution_count": 17,
     "metadata": {},
     "output_type": "execute_result"
    }
   ],
   "source": [
    "plus(3)"
   ]
  },
  {
   "cell_type": "markdown",
   "metadata": {},
   "source": [
    "#### scope"
   ]
  },
  {
   "cell_type": "code",
   "execution_count": 20,
   "metadata": {},
   "outputs": [
    {
     "name": "stdout",
     "output_type": "stream",
     "text": [
      "Sum of them  13\n",
      "Global total  10\n"
     ]
    }
   ],
   "source": [
    "total = 10 #global\n",
    "def myfunc(x,y):\n",
    "    total = x + y #local\n",
    "    print('Sum of them ', total)\n",
    "    \n",
    "myfunc(6,7)\n",
    "print('Global total ', total)"
   ]
  },
  {
   "cell_type": "code",
   "execution_count": 21,
   "metadata": {},
   "outputs": [
    {
     "name": "stdout",
     "output_type": "stream",
     "text": [
      "Sum of them  13\n",
      "Global total  13\n"
     ]
    }
   ],
   "source": [
    "def myfunc1(x,y):\n",
    "    global total\n",
    "    total = x + y #local\n",
    "    print('Sum of them ', total)\n",
    "    \n",
    "myfunc1(6,7)\n",
    "print('Global total ', total)"
   ]
  },
  {
   "cell_type": "code",
   "execution_count": 26,
   "metadata": {},
   "outputs": [],
   "source": [
    "def myfunc2(x):\n",
    "    return x * 3\n",
    "\n",
    "def myfunc3(x):\n",
    "    return x ** 3\n",
    "\n",
    "def usefunc(f, x):\n",
    "    return f(x)"
   ]
  },
  {
   "cell_type": "code",
   "execution_count": 33,
   "metadata": {},
   "outputs": [
    {
     "name": "stdout",
     "output_type": "stream",
     "text": [
      "24\n"
     ]
    }
   ],
   "source": [
    "h = myfunc2\n",
    "print(h(8))"
   ]
  },
  {
   "cell_type": "code",
   "execution_count": 28,
   "metadata": {},
   "outputs": [
    {
     "name": "stdout",
     "output_type": "stream",
     "text": [
      "135\n"
     ]
    }
   ],
   "source": [
    "print(f(45))"
   ]
  },
  {
   "cell_type": "code",
   "execution_count": 29,
   "metadata": {},
   "outputs": [
    {
     "name": "stdout",
     "output_type": "stream",
     "text": [
      "9\n",
      "27\n"
     ]
    }
   ],
   "source": [
    "lf = [myfunc2, myfunc3]\n",
    "for f in lf:\n",
    "    print(f(3))"
   ]
  },
  {
   "cell_type": "code",
   "execution_count": 30,
   "metadata": {},
   "outputs": [
    {
     "data": {
      "text/plain": [
       "18"
      ]
     },
     "execution_count": 30,
     "metadata": {},
     "output_type": "execute_result"
    }
   ],
   "source": [
    "usefunc(myfunc2, 6)"
   ]
  },
  {
   "cell_type": "code",
   "execution_count": 35,
   "metadata": {},
   "outputs": [
    {
     "data": {
      "text/plain": [
       "[(2, 4, 7),\n",
       " 'hello, how are you',\n",
       " (43.0, 0.23),\n",
       " [45, 2],\n",
       " (53, 21, 0.1, 0.3, 9.0, 12)]"
      ]
     },
     "execution_count": 35,
     "metadata": {},
     "output_type": "execute_result"
    }
   ],
   "source": [
    "li = [(2,4,7), [45,2], (43.0, 0.23), (53,21,0.1,0.3, 9.0, 12), 'hello, how are you']\n",
    "li.sort(key=lambda x: len(x) if type(x)==str else sum(x))\n",
    "li"
   ]
  },
  {
   "cell_type": "code",
   "execution_count": 36,
   "metadata": {},
   "outputs": [
    {
     "data": {
      "text/plain": [
       "['hello, how are you',\n",
       " (2, 4, 7, 8),\n",
       " (43.0, 0.23),\n",
       " [45, 2],\n",
       " (53, 21, 0.1, 0.3, 9.0, 12)]"
      ]
     },
     "execution_count": 36,
     "metadata": {},
     "output_type": "execute_result"
    }
   ],
   "source": [
    "def mysort(x):\n",
    "    if type(x) == str:\n",
    "        return len(x)\n",
    "    else:\n",
    "        return sum(x)\n",
    "    \n",
    "li1 = [(2,4,7, 8), [45,2], (43.0, 0.23), (53,21,0.1,0.3, 9.0, 12), 'hello, how are you']\n",
    "li1.sort(key=mysort)\n",
    "li1"
   ]
  },
  {
   "cell_type": "code",
   "execution_count": 38,
   "metadata": {},
   "outputs": [
    {
     "data": {
      "text/plain": [
       "['hello, how are you',\n",
       " [45, 2],\n",
       " (53, 21, 0.1, 0.3, 9.0, 12),\n",
       " (43.0, 0.23),\n",
       " (2, 4, 7, 8)]"
      ]
     },
     "execution_count": 38,
     "metadata": {},
     "output_type": "execute_result"
    }
   ],
   "source": [
    "li2 = [(2,4,7, 8), [45,2], (43.0, 0.23), (53,21,0.1,0.3, 9.0, 12), 'hello, how are you']\n",
    "li2.sort(key=lambda x: str(x), reverse=True)\n",
    "li2"
   ]
  },
  {
   "cell_type": "code",
   "execution_count": 43,
   "metadata": {},
   "outputs": [],
   "source": [
    "def top():\n",
    "    print('  _______  ')\n",
    "    print(' /       \\\\')\n",
    "    print('/         \\\\')\n",
    "    \n",
    "def bottom():\n",
    "    print('\\\\         /')\n",
    "    print(' \\\\_______/')"
   ]
  },
  {
   "cell_type": "code",
   "execution_count": 49,
   "metadata": {},
   "outputs": [
    {
     "name": "stdout",
     "output_type": "stream",
     "text": [
      "  _______  \n",
      " /       \\\n",
      "/         \\\n",
      "\\         /\n",
      " \\_______/\n",
      "\n",
      "\\         /\n",
      " \\_______/\n",
      "+---------+\n",
      "\n",
      "  _______  \n",
      " /       \\\n",
      "/         \\\n",
      "|  STOP   |\n",
      "\\         /\n",
      " \\_______/\n",
      "\n",
      "  _______  \n",
      " /       \\\n",
      "/         \\\n",
      "+---------+\n"
     ]
    }
   ],
   "source": [
    "top()\n",
    "bottom()\n",
    "print()\n",
    "bottom()\n",
    "print('+---------+')\n",
    "print()\n",
    "top()\n",
    "print('|  STOP   |')\n",
    "bottom()\n",
    "print()\n",
    "top()\n",
    "print('+---------+')"
   ]
  },
  {
   "cell_type": "markdown",
   "metadata": {},
   "source": [
    "### map function"
   ]
  },
  {
   "cell_type": "code",
   "execution_count": 3,
   "metadata": {},
   "outputs": [
    {
     "name": "stdout",
     "output_type": "stream",
     "text": [
      "2 53 64 30 5 8 2\n",
      "[2, 53, 64, 30, 5, 8, 2]\n",
      "<class 'list'>\n"
     ]
    }
   ],
   "source": [
    "li = list(map(int, input().split()))\n",
    "print(li)\n",
    "print(type(li))"
   ]
  },
  {
   "cell_type": "code",
   "execution_count": null,
   "metadata": {},
   "outputs": [],
   "source": [
    "li1 = [int(x) for x in '2 53 64 30 5 8 2'.split()]"
   ]
  },
  {
   "cell_type": "code",
   "execution_count": 5,
   "metadata": {},
   "outputs": [
    {
     "data": {
      "text/plain": [
       "[4, 2809, 4096, 900, 25, 64, 4]"
      ]
     },
     "execution_count": 5,
     "metadata": {},
     "output_type": "execute_result"
    }
   ],
   "source": [
    "def myfunc(x):\n",
    "    return x**2\n",
    "\n",
    "li2 = [myfunc(int(x)) for x in '2 53 64 30 5 8 2'.split()]\n",
    "li2"
   ]
  },
  {
   "cell_type": "code",
   "execution_count": 6,
   "metadata": {},
   "outputs": [
    {
     "data": {
      "text/plain": [
       "(0.4, 0.75, 3.0, 0.0, 1.3333333333333333, 3.5, 0.25)"
      ]
     },
     "execution_count": 6,
     "metadata": {},
     "output_type": "execute_result"
    }
   ],
   "source": [
    "l1 = [2,6,9,0,4,7,2]\n",
    "t1 = (5,8,3,7,3,2,8)\n",
    "\n",
    "t = tuple(map(lambda x,y: x/y , l1, t1))\n",
    "t"
   ]
  },
  {
   "cell_type": "code",
   "execution_count": 9,
   "metadata": {},
   "outputs": [
    {
     "data": {
      "text/plain": [
       "[(2, 5), (6, 8), (9, 3), (0, 7), (4, 3), (7, 2), (2, 8)]"
      ]
     },
     "execution_count": 9,
     "metadata": {},
     "output_type": "execute_result"
    }
   ],
   "source": [
    "# for x, y in zip(l1, t1):\n",
    "list(zip(l1, t1))  "
   ]
  },
  {
   "cell_type": "markdown",
   "metadata": {},
   "source": [
    "### Recursion"
   ]
  },
  {
   "cell_type": "code",
   "execution_count": 10,
   "metadata": {},
   "outputs": [
    {
     "data": {
      "text/plain": [
       "30"
      ]
     },
     "execution_count": 10,
     "metadata": {},
     "output_type": "execute_result"
    }
   ],
   "source": [
    "def mysum(l):\n",
    "    if len(l)==0:\n",
    "        return None\n",
    "    elif len(l) == 1:\n",
    "        return l[0]\n",
    "    else:\n",
    "        return l[0] + mysum(l[1:])\n",
    "    \n",
    "mysum(l1)"
   ]
  },
  {
   "cell_type": "code",
   "execution_count": 12,
   "metadata": {},
   "outputs": [
    {
     "data": {
      "text/plain": [
       "2"
      ]
     },
     "execution_count": 12,
     "metadata": {},
     "output_type": "execute_result"
    }
   ],
   "source": [
    "def min2number(a, b):\n",
    "    if a < b:\n",
    "        return a\n",
    "    else:\n",
    "        return b\n",
    "    \n",
    "def mymin(l):\n",
    "    if len(l)==0:\n",
    "        return None\n",
    "    elif len(l) == 1:\n",
    "        return l[0]\n",
    "    else:\n",
    "        return min2number(l[0], mymin(l[1:]))\n",
    "    \n",
    "mymin(t1)"
   ]
  },
  {
   "cell_type": "code",
   "execution_count": 13,
   "metadata": {},
   "outputs": [
    {
     "data": {
      "text/plain": [
       "2"
      ]
     },
     "execution_count": 13,
     "metadata": {},
     "output_type": "execute_result"
    }
   ],
   "source": [
    "from functools import reduce\n",
    "reduce(lambda x,y: x if x<y else y, t1)"
   ]
  },
  {
   "cell_type": "code",
   "execution_count": 19,
   "metadata": {},
   "outputs": [
    {
     "data": {
      "text/plain": [
       "2315"
      ]
     },
     "execution_count": 19,
     "metadata": {},
     "output_type": "execute_result"
    }
   ],
   "source": [
    "def mysumdeep(l):\n",
    "    if len(l)==0:\n",
    "        return None\n",
    "    elif len(l) == 1:\n",
    "        if type(l[0]) in [int, float]:\n",
    "            return l[0]\n",
    "        else:\n",
    "            return mysumdeep(l[0])\n",
    "    else:\n",
    "        if type(l[0]) in [int, float]:\n",
    "            return l[0] + mysumdeep(l[1:])\n",
    "        else:\n",
    "            return mysumdeep(l[0]) + mysumdeep(l[1:])\n",
    "    \n",
    "complex_list = [2,4, (2,(3,(6,(545,(424))))), 90, (2,3,56),[5,78,2, [43,8,2,6,[638,256,78]]], (56,2,4)]\n",
    "mysumdeep(complex_list)"
   ]
  },
  {
   "cell_type": "code",
   "execution_count": 29,
   "metadata": {},
   "outputs": [
    {
     "name": "stdout",
     "output_type": "stream",
     "text": [
      "2\n",
      "4\n",
      "--2\n",
      "----3\n",
      "------6\n",
      "--------545\n",
      "--------424\n",
      "90\n",
      "--2\n",
      "--3\n",
      "--56\n",
      "--5\n",
      "--78\n",
      "--2\n",
      "----43\n",
      "----8\n",
      "----2\n",
      "----6\n",
      "------638\n",
      "------256\n",
      "------78\n",
      "--56\n",
      "--2\n",
      "--4\n"
     ]
    }
   ],
   "source": [
    "def myprintdeep(l, tab):\n",
    "    for x in l:\n",
    "        if type(x) in [int, float, str]:\n",
    "            print(tab + '{}'.format(x))\n",
    "        else:\n",
    "            myprintdeep(x, tab + '--')\n",
    "\n",
    "myprintdeep(complex_list, '')"
   ]
  },
  {
   "cell_type": "code",
   "execution_count": null,
   "metadata": {},
   "outputs": [],
   "source": []
  }
 ],
 "metadata": {
  "kernelspec": {
   "display_name": "Python 3",
   "language": "python",
   "name": "python3"
  },
  "language_info": {
   "codemirror_mode": {
    "name": "ipython",
    "version": 3
   },
   "file_extension": ".py",
   "mimetype": "text/x-python",
   "name": "python",
   "nbconvert_exporter": "python",
   "pygments_lexer": "ipython3",
   "version": "3.8.4"
  }
 },
 "nbformat": 4,
 "nbformat_minor": 2
}
