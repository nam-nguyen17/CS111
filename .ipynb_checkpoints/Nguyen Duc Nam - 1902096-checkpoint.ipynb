{
 "cells": [
  {
   "cell_type": "code",
   "execution_count": 2,
   "metadata": {},
   "outputs": [],
   "source": [
    "with open(\"epldata_final.csv\", encoding=\"utf8\") as myfile:\n",
    "    s = myfile.read()\n",
    "    dataList = s.split(\"\\n\")[1:-1]\n",
    "    data = []\n",
    "    for player in dataList:\n",
    "        data.append(player.split(\",\"))"
   ]
  },
  {
   "cell_type": "code",
   "execution_count": 12,
   "metadata": {},
   "outputs": [
    {
     "name": "stdout",
     "output_type": "stream",
     "text": [
      "{'Everton', 'Huddersfield', 'Manchester+City', 'Leicester+City', 'West+Brom', 'Newcastle+United', 'West+Ham', 'Liverpool', 'Arsenal', 'Tottenham', 'Bournemouth', 'Southampton', 'Crystal+Palace', 'Chelsea', 'Swansea', 'Watford', 'Burnley', 'Stoke+City', 'Manchester+United', 'Brighton+and+Hove'}\n",
      "{'Everton': 0, 'Huddersfield': 0, 'Manchester+City': 0, 'Leicester+City': 0, 'West+Brom': 0, 'Newcastle+United': 0, 'West+Ham': 0, 'Liverpool': 0, 'Arsenal': 0, 'Tottenham': 0, 'Bournemouth': 0, 'Southampton': 0, 'Crystal+Palace': 0, 'Chelsea': 0, 'Swansea': 0, 'Watford': 0, 'Burnley': 0, 'Stoke+City': 0, 'Manchester+United': 0, 'Brighton+and+Hove': 0}\n",
      "[('Everton', 28), ('Huddersfield', 28), ('Manchester+City', 20), ('Leicester+City', 24), ('West+Brom', 19), ('Newcastle+United', 21), ('West+Ham', 22), ('Liverpool', 27), ('Arsenal', 28), ('Tottenham', 20), ('Bournemouth', 24), ('Southampton', 23), ('Crystal+Palace', 21), ('Chelsea', 20), ('Swansea', 25), ('Watford', 24), ('Burnley', 18), ('Stoke+City', 22), ('Manchester+United', 25), ('Brighton+and+Hove', 22)]\n"
     ]
    }
   ],
   "source": [
    "# 1\n",
    "def get_col(arr, col):\n",
    "    return map(lambda x: x[col], arr)\n",
    "\n",
    "a = data\n",
    "unique_club = set(list(get_col(a, 1)))\n",
    "print(unique_club)           #  in ra set cac doi bong\n",
    "\n",
    "player_each_club = dict.fromkeys(unique_club, 0)\n",
    "print(player_each_club)\n",
    "\n",
    "number = []\n",
    "for i in unique_club:\n",
    "    number_temp = (i, list(get_col(a, 1)).count(i))\n",
    "    number.append(number_temp)\n",
    "print(number)"
   ]
  },
  {
   "cell_type": "code",
   "execution_count": 4,
   "metadata": {},
   "outputs": [
    {
     "name": "stdout",
     "output_type": "stream",
     "text": [
      "{'28': 'Andy Carroll', '35': 'Michael Carrick', '31': 'James Morrison', '22': 'Will Hughes', '30': 'Adrian', '25': 'Pedro Obiang', '21': 'Ashley Fletcher', '24': 'Manuel Lanzini', '23': 'Sam Byram', '26': 'Ahmed Hegazy', '27': 'Diafra Sakho', '32': 'Pablo Zabaleta', '34': 'Boaz Myhill', '37': 'Gareth McAuley', '20': 'Ramadan Sobhi', '29': 'Angelo Ogbonna', '36': 'Heurelho Gomes', '33': 'James Collins', '38': 'Julian Speroni', '19': 'Sam Field', '18': 'Jonathan Leko', '17': 'Ben Woodburn'}\n",
      "Julian Speroni\n",
      "Ben Woodburn\n"
     ]
    }
   ],
   "source": [
    "name_age = {i[2]:i[0] for i in data} # dict: age and name\n",
    "print(name_age)\n",
    "\n",
    "age = set(list(get_col(a, 2)))  # list of age in dataset\n",
    "\n",
    "# find oldest and youngest\n",
    "for i in name_age:\n",
    "    if i == max(age):\n",
    "        print(name_age[i])\n",
    "    if i == min(age):\n",
    "        print(name_age[i])"
   ]
  },
  {
   "cell_type": "code",
   "execution_count": 5,
   "metadata": {},
   "outputs": [],
   "source": [
    "# 3.1\n",
    "age1 = list(get_col(a, 2)) # list of age in dataset\n",
    "\n",
    "#print(age1)\n",
    "\n",
    "for i in range(0, len(age1)):\n",
    "    age1[i] = int(age1[i]) # Converting all strings in list to integers\n",
    "    \n",
    "sum_age = 0\n",
    "average_age_players = 0\n",
    "for i in age1:\n",
    "    sum_age += i\n",
    "    average_age_players = sum_age // len(age1)\n",
    "#print(average_age_players)  # average age of all players"
   ]
  },
  {
   "cell_type": "code",
   "execution_count": 58,
   "metadata": {},
   "outputs": [
    {
     "ename": "ValueError",
     "evalue": "invalid literal for int() with base 10: 'LW'",
     "output_type": "error",
     "traceback": [
      "\u001b[1;31m---------------------------------------------------------------------------\u001b[0m",
      "\u001b[1;31mValueError\u001b[0m                                Traceback (most recent call last)",
      "\u001b[1;32m<ipython-input-58-54be85bcf716>\u001b[0m in \u001b[0;36m<module>\u001b[1;34m\u001b[0m\n\u001b[0;32m      2\u001b[0m \u001b[0mclub_age\u001b[0m \u001b[1;33m=\u001b[0m \u001b[1;33m[\u001b[0m\u001b[1;33m]\u001b[0m\u001b[1;33m\u001b[0m\u001b[1;33m\u001b[0m\u001b[0m\n\u001b[0;32m      3\u001b[0m \u001b[1;32mfor\u001b[0m \u001b[0mi\u001b[0m \u001b[1;32min\u001b[0m \u001b[0mdata\u001b[0m\u001b[1;33m:\u001b[0m\u001b[1;33m\u001b[0m\u001b[1;33m\u001b[0m\u001b[0m\n\u001b[1;32m----> 4\u001b[1;33m     \u001b[0mclub_age\u001b[0m\u001b[1;33m.\u001b[0m\u001b[0mappend\u001b[0m\u001b[1;33m(\u001b[0m\u001b[1;33m[\u001b[0m\u001b[0mi\u001b[0m\u001b[1;33m[\u001b[0m\u001b[1;36m1\u001b[0m\u001b[1;33m]\u001b[0m\u001b[1;33m,\u001b[0m \u001b[0mint\u001b[0m\u001b[1;33m(\u001b[0m\u001b[0mi\u001b[0m\u001b[1;33m[\u001b[0m\u001b[1;36m3\u001b[0m\u001b[1;33m]\u001b[0m\u001b[1;33m)\u001b[0m\u001b[1;33m]\u001b[0m\u001b[1;33m)\u001b[0m\u001b[1;33m\u001b[0m\u001b[1;33m\u001b[0m\u001b[0m\n\u001b[0m\u001b[0;32m      5\u001b[0m \u001b[1;33m\u001b[0m\u001b[0m\n\u001b[0;32m      6\u001b[0m \u001b[1;33m\u001b[0m\u001b[0m\n",
      "\u001b[1;31mValueError\u001b[0m: invalid literal for int() with base 10: 'LW'"
     ]
    }
   ],
   "source": [
    "# 3.2\n",
    "club_age = []\n",
    "for i in data:\n",
    "    club_age.append(i[1:3])\n",
    "\n",
    "\n",
    "for i in range(0, len(club_age)):\n",
    "    club_age[i][1] = int(club_age[i][1])\n",
    "#print(club_age)\n",
    "\n",
    "average_in_club = []\n",
    "total_in_club = 0\n",
    "average_age_in_club = 0\n",
    "number_player = 0\n",
    "club_avg_age = []\n",
    "\n",
    "for i in unique_club: # 20 doi bong\n",
    "    for j in club_age:\n",
    "        if i in j:\n",
    "            total_in_club += j[1]\n",
    "    #print(total_in_club)\n",
    "    for k in number:\n",
    "        if i in k:\n",
    "            number_player += k[1]\n",
    "    #print(number_player)\n",
    "    print(i, total_in_club//number_player)\n",
    "    club_avg_age.append([i, total_in_club//number_player])\n",
    "    number_player = 0\n",
    "    total_in_club = 0"
   ]
  },
  {
   "cell_type": "code",
   "execution_count": 35,
   "metadata": {},
   "outputs": [
    {
     "data": {
      "text/plain": [
       "[['West+Brom', 28],\n",
       " ['Crystal+Palace', 28],\n",
       " ['Watford', 28],\n",
       " ['Stoke+City', 28],\n",
       " ['Brighton+and+Hove', 28],\n",
       " ['Manchester+City', 27],\n",
       " ['Leicester+City', 27],\n",
       " ['West+Ham', 27],\n",
       " ['Chelsea', 27],\n",
       " ['Swansea', 27],\n",
       " ['Burnley', 27],\n",
       " ['Everton', 26],\n",
       " ['Huddersfield', 26],\n",
       " ['Newcastle+United', 26],\n",
       " ['Arsenal', 26],\n",
       " ['Bournemouth', 26],\n",
       " ['Tottenham', 25],\n",
       " ['Manchester+United', 25],\n",
       " ['Liverpool', 24],\n",
       " ['Southampton', 24]]"
      ]
     },
     "execution_count": 35,
     "metadata": {},
     "output_type": "execute_result"
    }
   ],
   "source": [
    "sorted(club_avg_age, key = lambda x: x[1], reverse = True)"
   ]
  },
  {
   "cell_type": "code",
   "execution_count": 56,
   "metadata": {},
   "outputs": [
    {
     "ename": "SyntaxError",
     "evalue": "invalid syntax (<ipython-input-56-0b2e678a35e0>, line 11)",
     "output_type": "error",
     "traceback": [
      "\u001b[1;36m  File \u001b[1;32m\"<ipython-input-56-0b2e678a35e0>\"\u001b[1;36m, line \u001b[1;32m11\u001b[0m\n\u001b[1;33m    else:\u001b[0m\n\u001b[1;37m    ^\u001b[0m\n\u001b[1;31mSyntaxError\u001b[0m\u001b[1;31m:\u001b[0m invalid syntax\n"
     ]
    }
   ],
   "source": [
    "club_market_value = []\n",
    "for i in data:\n",
    "    club_market_value.append([i[-2], float(i[5])])\n",
    "\n",
    "print(club_market_value)\n",
    "value_of_big6 = 0\n",
    "value_of_not_big6 = 0\n",
    "for i[0] in club_market_value:\n",
    "    if i == '1':\n",
    "        value_of_big6 += sum(float(i[1])\n",
    "    else:\n",
    "        value_of_not_big6 += sum(float(i[1]))\n",
    "print(value_of_big6)"
   ]
  },
  {
   "cell_type": "code",
   "execution_count": null,
   "metadata": {},
   "outputs": [],
   "source": []
  }
 ],
 "metadata": {
  "kernelspec": {
   "display_name": "Python 3",
   "language": "python",
   "name": "python3"
  },
  "language_info": {
   "codemirror_mode": {
    "name": "ipython",
    "version": 3
   },
   "file_extension": ".py",
   "mimetype": "text/x-python",
   "name": "python",
   "nbconvert_exporter": "python",
   "pygments_lexer": "ipython3",
   "version": "3.8.4"
  }
 },
 "nbformat": 4,
 "nbformat_minor": 4
}
