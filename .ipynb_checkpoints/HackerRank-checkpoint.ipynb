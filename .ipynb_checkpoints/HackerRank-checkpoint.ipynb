{
 "cells": [
  {
   "cell_type": "code",
   "execution_count": 38,
   "metadata": {
    "scrolled": true
   },
   "outputs": [
    {
     "name": "stdout",
     "output_type": "stream",
     "text": [
      "3 1000\n",
      "2 5 4\n",
      "3 7 8 9\n",
      "5 5 7 8 9 10\n",
      "[2, 3, 5]\n",
      "206\n"
     ]
    }
   ],
   "source": [
    "k, m = map(int, input().split())\n",
    "A = []\n",
    "lengths = []\n",
    "for i in range(k):\n",
    "    raw = input().split()\n",
    "    A.append([int(a) for a in raw[1:]])\n",
    "    lengths.append(int(raw[0]))\n",
    "    \n",
    "\n",
    "indexes = [0] * k\n",
    "totalCombinations = 1\n",
    "for length in lengths:\n",
    "    totalCombinations *= length\n",
    "    \n",
    "maximum = 0\n",
    "for _ in range(totalCombinations):\n",
    "    f = 0\n",
    "    for j in range(k):\n",
    "        f += (A[j][indexes[j]] ** 2)\n",
    "    f %= m\n",
    "    if f > maximum:\n",
    "        maximum = f\n",
    "    indexes[-1] += 1\n",
    "    for i in range(k - 1, -1, -1):\n",
    "        if indexes[i] == lengths[i]:\n",
    "            indexes[i] = 0\n",
    "            indexes[i - 1] += 1\n",
    "\n",
    "print(maximum)"
   ]
  },
  {
   "cell_type": "code",
   "execution_count": 37,
   "metadata": {},
   "outputs": [
    {
     "name": "stdout",
     "output_type": "stream",
     "text": [
      "3 1000\n",
      "2 5 4\n",
      "3 7 8 9 \n",
      "5 5 7 8 9 10\n",
      "206\n"
     ]
    }
   ],
   "source": [
    "\n",
    "import itertools\n",
    "\n",
    "k, m = [int(x) for x in input().split()]\n",
    "lst = []\n",
    "\n",
    "for i in range(k):\n",
    "    lst.append(sorted([(int(x)**2) for x in input().split()][1:]))\n",
    "\n",
    "maximum = max([sum(t)%m for t in itertools.product(*lst)])\n",
    "print(maximum)"
   ]
  },
  {
   "cell_type": "markdown",
   "metadata": {},
   "source": [
    "# 2\n"
   ]
  },
  {
   "cell_type": "code",
   "execution_count": 13,
   "metadata": {},
   "outputs": [
    {
     "name": "stdout",
     "output_type": "stream",
     "text": [
      "4\n",
      "a a b c\n",
      "2\n",
      "0.8333333333333334\n"
     ]
    }
   ],
   "source": [
    "from itertools import combinations\n",
    "\n",
    "N = int(input())\n",
    "lst = input().split()\n",
    "K = int(input())\n",
    "\n",
    "combine = list(combinations(lst, K))\n",
    "\n",
    "check = list(filter(lambda x: 'a' in x, combine))\n",
    "print(len(check) / len(combine))"
   ]
  },
  {
   "cell_type": "markdown",
   "metadata": {},
   "source": [
    "# 3 "
   ]
  },
  {
   "cell_type": "code",
   "execution_count": 21,
   "metadata": {},
   "outputs": [
    {
     "ename": "IndentationError",
     "evalue": "expected an indented block (<ipython-input-21-55f435816371>, line 29)",
     "output_type": "error",
     "traceback": [
      "\u001b[1;36m  File \u001b[1;32m\"<ipython-input-21-55f435816371>\"\u001b[1;36m, line \u001b[1;32m29\u001b[0m\n\u001b[1;33m    reg = map(re.compile, patterns)\u001b[0m\n\u001b[1;37m    ^\u001b[0m\n\u001b[1;31mIndentationError\u001b[0m\u001b[1;31m:\u001b[0m expected an indented block\n"
     ]
    }
   ],
   "source": [
    "import re\n",
    "\n",
    "UID = int(input())\n",
    "# lst = []\n",
    "# for i in range(UID):\n",
    "#     text = input()\n",
    "#     lst.append(text)\n",
    "\n",
    "# regex = r'^(?=(?:[a-z\\d]*[A-Z]){2})(?=(?:\\D*\\d){3})(?=:([a-zA-Z\\d])(?!.*\\1){10}$'\n",
    "uppercase = r\"(.*[A-Z]{2})\"\n",
    "contain_num = r\"(.*\\d){3})\"\n",
    "no_repeat = r\"(?!.*\\1)\"\n",
    "quantity = r\"[a-zA-Z0-9]{10}\"\n",
    "\n",
    "patterns = [uppercase, contain_num, no_repeat, quantity]\n",
    "for p in lst:\n",
    "#      = re.findall(regex, lst)\n",
    "#     if match:\n",
    "#         print(\"VALID\")\n",
    "#     else:\n",
    "#         print(\"INVALID\")\n",
    "        \n",
    "        \n",
    "#     if all(re.match(f, p) for f in filters):\n",
    "#         print(\"Valid\")\n",
    "#     else:\n",
    "#         print(\"Invalid\")\n",
    "\n",
    "    reg = map(re.compile, patterns)\n",
    "for i in range(UID):\n",
    "    l = input().strip()\n",
    "    print 'Valid' if all([x.match(l) for x in reg]) else 'Invalid' "
   ]
  },
  {
   "cell_type": "code",
   "execution_count": null,
   "metadata": {},
   "outputs": [],
   "source": [
    "# 2\n",
    "# B1CD102354\n",
    "# B1CDEF2354\n",
    "\n",
    "^(?=(?:[a-z\\d]*[A-Z]){2})(?=(?:\\D*\\d){3})(?:([a-zA-Z\\d])(?!.*\\1)){10}$"
   ]
  }
 ],
 "metadata": {
  "kernelspec": {
   "display_name": "Python 3",
   "language": "python",
   "name": "python3"
  },
  "language_info": {
   "codemirror_mode": {
    "name": "ipython",
    "version": 3
   },
   "file_extension": ".py",
   "mimetype": "text/x-python",
   "name": "python",
   "nbconvert_exporter": "python",
   "pygments_lexer": "ipython3",
   "version": "3.8.4"
  }
 },
 "nbformat": 4,
 "nbformat_minor": 4
}
